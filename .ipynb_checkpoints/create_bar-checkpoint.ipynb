{
 "cells": [
  {
   "cell_type": "code",
   "execution_count": 1,
   "id": "9b5d3048",
   "metadata": {
    "ExecuteTime": {
     "end_time": "2021-09-03T20:43:19.668643Z",
     "start_time": "2021-09-03T20:43:19.040156Z"
    }
   },
   "outputs": [],
   "source": [
    "import plotly.express as px\n",
    "import plotly.offline as py\n",
    "import pandas as pd"
   ]
  },
  {
   "cell_type": "code",
   "execution_count": 13,
   "id": "27970b69",
   "metadata": {
    "ExecuteTime": {
     "end_time": "2021-09-03T20:49:21.715715Z",
     "start_time": "2021-09-03T20:49:21.691919Z"
    }
   },
   "outputs": [
    {
     "data": {
      "text/html": [
       "<div>\n",
       "<style scoped>\n",
       "    .dataframe tbody tr th:only-of-type {\n",
       "        vertical-align: middle;\n",
       "    }\n",
       "\n",
       "    .dataframe tbody tr th {\n",
       "        vertical-align: top;\n",
       "    }\n",
       "\n",
       "    .dataframe thead th {\n",
       "        text-align: right;\n",
       "    }\n",
       "</style>\n",
       "<table border=\"1\" class=\"dataframe\">\n",
       "  <thead>\n",
       "    <tr style=\"text-align: right;\">\n",
       "      <th></th>\n",
       "      <th>source</th>\n",
       "      <th>target</th>\n",
       "      <th>source_group</th>\n",
       "      <th>target_group</th>\n",
       "      <th>weight</th>\n",
       "      <th>source_image</th>\n",
       "      <th>target_image</th>\n",
       "    </tr>\n",
       "  </thead>\n",
       "  <tbody>\n",
       "    <tr>\n",
       "      <th>0</th>\n",
       "      <td>GS00S04838|00001197902C1045929E3101CGS00S04838</td>\n",
       "      <td>9122532</td>\n",
       "      <td>contract</td>\n",
       "      <td>vendor</td>\n",
       "      <td>0.111427</td>\n",
       "      <td>/company_contract.png</td>\n",
       "      <td>/company_vendor.png</td>\n",
       "    </tr>\n",
       "    <tr>\n",
       "      <th>1</th>\n",
       "      <td>GS00S86307|00001197908C2526929E3101GS00S86307</td>\n",
       "      <td>9122532</td>\n",
       "      <td>contract</td>\n",
       "      <td>vendor</td>\n",
       "      <td>0.114374</td>\n",
       "      <td>/company_contract.png</td>\n",
       "      <td>/company_vendor.png</td>\n",
       "    </tr>\n",
       "    <tr>\n",
       "      <th>2</th>\n",
       "      <td>GS00S86603|00001198011CDTFA0180F87043GS00S86603</td>\n",
       "      <td>9122532</td>\n",
       "      <td>contract</td>\n",
       "      <td>vendor</td>\n",
       "      <td>0.236682</td>\n",
       "      <td>/company_contract.png</td>\n",
       "      <td>/company_vendor.png</td>\n",
       "    </tr>\n",
       "    <tr>\n",
       "      <th>3</th>\n",
       "      <td>GS00S86953|00001198012CDTFA0181F87074GS00S86953</td>\n",
       "      <td>9122532</td>\n",
       "      <td>contract</td>\n",
       "      <td>vendor</td>\n",
       "      <td>0.143846</td>\n",
       "      <td>/company_contract.png</td>\n",
       "      <td>/company_vendor.png</td>\n",
       "    </tr>\n",
       "    <tr>\n",
       "      <th>4</th>\n",
       "      <td>GS00S86307|00001197909CW17982181GS00S86307</td>\n",
       "      <td>9122532</td>\n",
       "      <td>contract</td>\n",
       "      <td>vendor</td>\n",
       "      <td>0.448878</td>\n",
       "      <td>/company_contract.png</td>\n",
       "      <td>/company_vendor.png</td>\n",
       "    </tr>\n",
       "    <tr>\n",
       "      <th>...</th>\n",
       "      <td>...</td>\n",
       "      <td>...</td>\n",
       "      <td>...</td>\n",
       "      <td>...</td>\n",
       "      <td>...</td>\n",
       "      <td>...</td>\n",
       "      <td>...</td>\n",
       "    </tr>\n",
       "    <tr>\n",
       "      <th>299</th>\n",
       "      <td>9122532</td>\n",
       "      <td>77817617</td>\n",
       "      <td>vendor</td>\n",
       "      <td>secondary_vendor</td>\n",
       "      <td>0.815802</td>\n",
       "      <td>/company_vendor.png</td>\n",
       "      <td>/company_secondary.png</td>\n",
       "    </tr>\n",
       "    <tr>\n",
       "      <th>300</th>\n",
       "      <td>9122532</td>\n",
       "      <td>49705585</td>\n",
       "      <td>vendor</td>\n",
       "      <td>secondary_vendor</td>\n",
       "      <td>0.112900</td>\n",
       "      <td>/company_vendor.png</td>\n",
       "      <td>/company_secondary.png</td>\n",
       "    </tr>\n",
       "    <tr>\n",
       "      <th>301</th>\n",
       "      <td>9122532</td>\n",
       "      <td>46667523</td>\n",
       "      <td>vendor</td>\n",
       "      <td>secondary_vendor</td>\n",
       "      <td>0.000000</td>\n",
       "      <td>/company_vendor.png</td>\n",
       "      <td>/company_secondary.png</td>\n",
       "    </tr>\n",
       "    <tr>\n",
       "      <th>302</th>\n",
       "      <td>company</td>\n",
       "      <td>9122532</td>\n",
       "      <td>entity</td>\n",
       "      <td>vendor</td>\n",
       "      <td>44.093095</td>\n",
       "      <td>/company_entity.png</td>\n",
       "      <td>/company_vendor.png</td>\n",
       "    </tr>\n",
       "    <tr>\n",
       "      <th>303</th>\n",
       "      <td>9122532</td>\n",
       "      <td>company</td>\n",
       "      <td>vendor</td>\n",
       "      <td>entity</td>\n",
       "      <td>44.093095</td>\n",
       "      <td>/company_vendor.png</td>\n",
       "      <td>/company_entity.png</td>\n",
       "    </tr>\n",
       "  </tbody>\n",
       "</table>\n",
       "<p>304 rows × 7 columns</p>\n",
       "</div>"
      ],
      "text/plain": [
       "                                              source    target source_group  \\\n",
       "0     GS00S04838|00001197902C1045929E3101CGS00S04838   9122532     contract   \n",
       "1      GS00S86307|00001197908C2526929E3101GS00S86307   9122532     contract   \n",
       "2    GS00S86603|00001198011CDTFA0180F87043GS00S86603   9122532     contract   \n",
       "3    GS00S86953|00001198012CDTFA0181F87074GS00S86953   9122532     contract   \n",
       "4         GS00S86307|00001197909CW17982181GS00S86307   9122532     contract   \n",
       "..                                               ...       ...          ...   \n",
       "299                                          9122532  77817617       vendor   \n",
       "300                                          9122532  49705585       vendor   \n",
       "301                                          9122532  46667523       vendor   \n",
       "302                                          company   9122532       entity   \n",
       "303                                          9122532   company       vendor   \n",
       "\n",
       "         target_group     weight           source_image  \\\n",
       "0              vendor   0.111427  /company_contract.png   \n",
       "1              vendor   0.114374  /company_contract.png   \n",
       "2              vendor   0.236682  /company_contract.png   \n",
       "3              vendor   0.143846  /company_contract.png   \n",
       "4              vendor   0.448878  /company_contract.png   \n",
       "..                ...        ...                    ...   \n",
       "299  secondary_vendor   0.815802    /company_vendor.png   \n",
       "300  secondary_vendor   0.112900    /company_vendor.png   \n",
       "301  secondary_vendor   0.000000    /company_vendor.png   \n",
       "302            vendor  44.093095    /company_entity.png   \n",
       "303            entity  44.093095    /company_vendor.png   \n",
       "\n",
       "               target_image  \n",
       "0       /company_vendor.png  \n",
       "1       /company_vendor.png  \n",
       "2       /company_vendor.png  \n",
       "3       /company_vendor.png  \n",
       "4       /company_vendor.png  \n",
       "..                      ...  \n",
       "299  /company_secondary.png  \n",
       "300  /company_secondary.png  \n",
       "301  /company_secondary.png  \n",
       "302     /company_vendor.png  \n",
       "303     /company_entity.png  \n",
       "\n",
       "[304 rows x 7 columns]"
      ]
     },
     "execution_count": 13,
     "metadata": {},
     "output_type": "execute_result"
    }
   ],
   "source": [
    "df = pd.read_csv(\"data/coi_network.csv\", index_col=[0])\n",
    "df"
   ]
  },
  {
   "cell_type": "code",
   "execution_count": 15,
   "id": "c5a8de6a",
   "metadata": {
    "ExecuteTime": {
     "end_time": "2021-09-03T20:49:46.914620Z",
     "start_time": "2021-09-03T20:49:46.895238Z"
    }
   },
   "outputs": [
    {
     "data": {
      "text/html": [
       "<div>\n",
       "<style scoped>\n",
       "    .dataframe tbody tr th:only-of-type {\n",
       "        vertical-align: middle;\n",
       "    }\n",
       "\n",
       "    .dataframe tbody tr th {\n",
       "        vertical-align: top;\n",
       "    }\n",
       "\n",
       "    .dataframe thead th {\n",
       "        text-align: right;\n",
       "    }\n",
       "</style>\n",
       "<table border=\"1\" class=\"dataframe\">\n",
       "  <thead>\n",
       "    <tr style=\"text-align: right;\">\n",
       "      <th></th>\n",
       "      <th>source</th>\n",
       "      <th>target</th>\n",
       "      <th>source_group</th>\n",
       "      <th>target_group</th>\n",
       "    </tr>\n",
       "  </thead>\n",
       "  <tbody>\n",
       "    <tr>\n",
       "      <th>0</th>\n",
       "      <td>GS00S04838|00001197902C1045929E3101CGS00S04838</td>\n",
       "      <td>9122532</td>\n",
       "      <td>contract</td>\n",
       "      <td>vendor</td>\n",
       "    </tr>\n",
       "    <tr>\n",
       "      <th>1</th>\n",
       "      <td>GS00S86307|00001197908C2526929E3101GS00S86307</td>\n",
       "      <td>9122532</td>\n",
       "      <td>contract</td>\n",
       "      <td>vendor</td>\n",
       "    </tr>\n",
       "    <tr>\n",
       "      <th>2</th>\n",
       "      <td>GS00S86603|00001198011CDTFA0180F87043GS00S86603</td>\n",
       "      <td>9122532</td>\n",
       "      <td>contract</td>\n",
       "      <td>vendor</td>\n",
       "    </tr>\n",
       "    <tr>\n",
       "      <th>3</th>\n",
       "      <td>GS00S86953|00001198012CDTFA0181F87074GS00S86953</td>\n",
       "      <td>9122532</td>\n",
       "      <td>contract</td>\n",
       "      <td>vendor</td>\n",
       "    </tr>\n",
       "    <tr>\n",
       "      <th>4</th>\n",
       "      <td>GS00S86307|00001197909CW17982181GS00S86307</td>\n",
       "      <td>9122532</td>\n",
       "      <td>contract</td>\n",
       "      <td>vendor</td>\n",
       "    </tr>\n",
       "    <tr>\n",
       "      <th>...</th>\n",
       "      <td>...</td>\n",
       "      <td>...</td>\n",
       "      <td>...</td>\n",
       "      <td>...</td>\n",
       "    </tr>\n",
       "    <tr>\n",
       "      <th>299</th>\n",
       "      <td>9122532</td>\n",
       "      <td>77817617</td>\n",
       "      <td>vendor</td>\n",
       "      <td>secondary_vendor</td>\n",
       "    </tr>\n",
       "    <tr>\n",
       "      <th>300</th>\n",
       "      <td>9122532</td>\n",
       "      <td>49705585</td>\n",
       "      <td>vendor</td>\n",
       "      <td>secondary_vendor</td>\n",
       "    </tr>\n",
       "    <tr>\n",
       "      <th>301</th>\n",
       "      <td>9122532</td>\n",
       "      <td>46667523</td>\n",
       "      <td>vendor</td>\n",
       "      <td>secondary_vendor</td>\n",
       "    </tr>\n",
       "    <tr>\n",
       "      <th>302</th>\n",
       "      <td>company</td>\n",
       "      <td>9122532</td>\n",
       "      <td>entity</td>\n",
       "      <td>vendor</td>\n",
       "    </tr>\n",
       "    <tr>\n",
       "      <th>303</th>\n",
       "      <td>9122532</td>\n",
       "      <td>company</td>\n",
       "      <td>vendor</td>\n",
       "      <td>entity</td>\n",
       "    </tr>\n",
       "  </tbody>\n",
       "</table>\n",
       "<p>304 rows × 4 columns</p>\n",
       "</div>"
      ],
      "text/plain": [
       "                                              source    target source_group  \\\n",
       "0     GS00S04838|00001197902C1045929E3101CGS00S04838   9122532     contract   \n",
       "1      GS00S86307|00001197908C2526929E3101GS00S86307   9122532     contract   \n",
       "2    GS00S86603|00001198011CDTFA0180F87043GS00S86603   9122532     contract   \n",
       "3    GS00S86953|00001198012CDTFA0181F87074GS00S86953   9122532     contract   \n",
       "4         GS00S86307|00001197909CW17982181GS00S86307   9122532     contract   \n",
       "..                                               ...       ...          ...   \n",
       "299                                          9122532  77817617       vendor   \n",
       "300                                          9122532  49705585       vendor   \n",
       "301                                          9122532  46667523       vendor   \n",
       "302                                          company   9122532       entity   \n",
       "303                                          9122532   company       vendor   \n",
       "\n",
       "         target_group  \n",
       "0              vendor  \n",
       "1              vendor  \n",
       "2              vendor  \n",
       "3              vendor  \n",
       "4              vendor  \n",
       "..                ...  \n",
       "299  secondary_vendor  \n",
       "300  secondary_vendor  \n",
       "301  secondary_vendor  \n",
       "302            vendor  \n",
       "303            entity  \n",
       "\n",
       "[304 rows x 4 columns]"
      ]
     },
     "execution_count": 15,
     "metadata": {},
     "output_type": "execute_result"
    }
   ],
   "source": [
    "df = df[[\"source\", \"target\", \"source_group\", \"target_group\"]]\n",
    "df.to_csv(\"data/hook_network.csv\")\n",
    "df"
   ]
  },
  {
   "cell_type": "markdown",
   "id": "df7ed754",
   "metadata": {},
   "source": [
    "## Bar chart"
   ]
  },
  {
   "cell_type": "code",
   "execution_count": 12,
   "id": "148e918d",
   "metadata": {
    "ExecuteTime": {
     "end_time": "2021-09-01T20:31:10.197422Z",
     "start_time": "2021-09-01T20:31:10.134523Z"
    }
   },
   "outputs": [],
   "source": [
    "df = pd.DataFrame({\"entity\":[\"Company #1\", \"Company #1\", \n",
    "                             \"Company #2\", \"Company #2\", \n",
    "                             \"Company #3\", \"Company #3\", \n",
    "                             \"Company #4\", \"Company #4\"],\n",
    "                   \"links\":[381, 574, 536, 737, 487, 2027, 2194, 2691],\n",
    "                   \"version\":[\"old \", \"new\", \"old \", \"new\", \"old \", \"new\", \"old \", \"new\"]})\n",
    "\n",
    "\n",
    "rows = []\n",
    "timesteps = 10\n",
    "for entity, e in df.groupby(\"entity\"):\n",
    "    min_links, max_links = min(e['links']), max(e['links'])\n",
    "    link_spacer = int((max_links-min_links)/(timesteps-2))\n",
    "    for time_idx, spacer in enumerate(range(min_links, max_links+link_spacer, link_spacer)):\n",
    "        rows.append(pd.DataFrame({\"entity\":entity, \"links\":spacer, \"version\":time_idx}, index=[0]))\n",
    "    \n",
    "df = pd.concat(rows)\n",
    "\n",
    "# making sure all bars have the same ending height\n",
    "min_bar_height = min(df.groupby(\"entity\")[\"version\"].agg(['max'])[\"max\"]) \n",
    "df = df.groupby('entity').head(min_bar_height).reset_index(drop=True)"
   ]
  },
  {
   "cell_type": "code",
   "execution_count": 14,
   "id": "675accd4",
   "metadata": {
    "ExecuteTime": {
     "end_time": "2021-09-01T20:31:38.580940Z",
     "start_time": "2021-09-01T20:31:37.405476Z"
    }
   },
   "outputs": [
    {
     "data": {
      "application/vnd.plotly.v1+json": {
       "config": {
        "linkText": "Export to plot.ly",
        "plotlyServerURL": "https://plot.ly",
        "showLink": false
       },
       "data": [
        {
         "alignmentgroup": "True",
         "hovertemplate": "entity=%{x}<br>version=0<br>links=%{y}<extra></extra>",
         "legendgroup": "Company #1",
         "marker": {
          "color": "#636efa"
         },
         "name": "Company #1",
         "offsetgroup": "Company #1",
         "orientation": "v",
         "showlegend": true,
         "textposition": "auto",
         "type": "bar",
         "x": [
          "Company #1"
         ],
         "xaxis": "x",
         "y": [
          381
         ],
         "yaxis": "y"
        },
        {
         "alignmentgroup": "True",
         "hovertemplate": "entity=%{x}<br>version=0<br>links=%{y}<extra></extra>",
         "legendgroup": "Company #2",
         "marker": {
          "color": "#EF553B"
         },
         "name": "Company #2",
         "offsetgroup": "Company #2",
         "orientation": "v",
         "showlegend": true,
         "textposition": "auto",
         "type": "bar",
         "x": [
          "Company #2"
         ],
         "xaxis": "x",
         "y": [
          536
         ],
         "yaxis": "y"
        },
        {
         "alignmentgroup": "True",
         "hovertemplate": "entity=%{x}<br>version=0<br>links=%{y}<extra></extra>",
         "legendgroup": "Company #3",
         "marker": {
          "color": "#00cc96"
         },
         "name": "Company #3",
         "offsetgroup": "Company #3",
         "orientation": "v",
         "showlegend": true,
         "textposition": "auto",
         "type": "bar",
         "x": [
          "Company #3"
         ],
         "xaxis": "x",
         "y": [
          487
         ],
         "yaxis": "y"
        },
        {
         "alignmentgroup": "True",
         "hovertemplate": "entity=%{x}<br>version=0<br>links=%{y}<extra></extra>",
         "legendgroup": "Company #4",
         "marker": {
          "color": "#ab63fa"
         },
         "name": "Company #4",
         "offsetgroup": "Company #4",
         "orientation": "v",
         "showlegend": true,
         "textposition": "auto",
         "type": "bar",
         "x": [
          "Company #4"
         ],
         "xaxis": "x",
         "y": [
          2194
         ],
         "yaxis": "y"
        }
       ],
       "frames": [
        {
         "data": [
          {
           "alignmentgroup": "True",
           "hovertemplate": "entity=%{x}<br>version=0<br>links=%{y}<extra></extra>",
           "legendgroup": "Company #1",
           "marker": {
            "color": "#636efa"
           },
           "name": "Company #1",
           "offsetgroup": "Company #1",
           "orientation": "v",
           "showlegend": true,
           "textposition": "auto",
           "type": "bar",
           "x": [
            "Company #1"
           ],
           "xaxis": "x",
           "y": [
            381
           ],
           "yaxis": "y"
          },
          {
           "alignmentgroup": "True",
           "hovertemplate": "entity=%{x}<br>version=0<br>links=%{y}<extra></extra>",
           "legendgroup": "Company #2",
           "marker": {
            "color": "#EF553B"
           },
           "name": "Company #2",
           "offsetgroup": "Company #2",
           "orientation": "v",
           "showlegend": true,
           "textposition": "auto",
           "type": "bar",
           "x": [
            "Company #2"
           ],
           "xaxis": "x",
           "y": [
            536
           ],
           "yaxis": "y"
          },
          {
           "alignmentgroup": "True",
           "hovertemplate": "entity=%{x}<br>version=0<br>links=%{y}<extra></extra>",
           "legendgroup": "Company #3",
           "marker": {
            "color": "#00cc96"
           },
           "name": "Company #3",
           "offsetgroup": "Company #3",
           "orientation": "v",
           "showlegend": true,
           "textposition": "auto",
           "type": "bar",
           "x": [
            "Company #3"
           ],
           "xaxis": "x",
           "y": [
            487
           ],
           "yaxis": "y"
          },
          {
           "alignmentgroup": "True",
           "hovertemplate": "entity=%{x}<br>version=0<br>links=%{y}<extra></extra>",
           "legendgroup": "Company #4",
           "marker": {
            "color": "#ab63fa"
           },
           "name": "Company #4",
           "offsetgroup": "Company #4",
           "orientation": "v",
           "showlegend": true,
           "textposition": "auto",
           "type": "bar",
           "x": [
            "Company #4"
           ],
           "xaxis": "x",
           "y": [
            2194
           ],
           "yaxis": "y"
          }
         ],
         "name": "0"
        },
        {
         "data": [
          {
           "alignmentgroup": "True",
           "hovertemplate": "entity=%{x}<br>version=1<br>links=%{y}<extra></extra>",
           "legendgroup": "Company #1",
           "marker": {
            "color": "#636efa"
           },
           "name": "Company #1",
           "offsetgroup": "Company #1",
           "orientation": "v",
           "showlegend": true,
           "textposition": "auto",
           "type": "bar",
           "x": [
            "Company #1"
           ],
           "xaxis": "x",
           "y": [
            405
           ],
           "yaxis": "y"
          },
          {
           "alignmentgroup": "True",
           "hovertemplate": "entity=%{x}<br>version=1<br>links=%{y}<extra></extra>",
           "legendgroup": "Company #2",
           "marker": {
            "color": "#EF553B"
           },
           "name": "Company #2",
           "offsetgroup": "Company #2",
           "orientation": "v",
           "showlegend": true,
           "textposition": "auto",
           "type": "bar",
           "x": [
            "Company #2"
           ],
           "xaxis": "x",
           "y": [
            561
           ],
           "yaxis": "y"
          },
          {
           "alignmentgroup": "True",
           "hovertemplate": "entity=%{x}<br>version=1<br>links=%{y}<extra></extra>",
           "legendgroup": "Company #3",
           "marker": {
            "color": "#00cc96"
           },
           "name": "Company #3",
           "offsetgroup": "Company #3",
           "orientation": "v",
           "showlegend": true,
           "textposition": "auto",
           "type": "bar",
           "x": [
            "Company #3"
           ],
           "xaxis": "x",
           "y": [
            679
           ],
           "yaxis": "y"
          },
          {
           "alignmentgroup": "True",
           "hovertemplate": "entity=%{x}<br>version=1<br>links=%{y}<extra></extra>",
           "legendgroup": "Company #4",
           "marker": {
            "color": "#ab63fa"
           },
           "name": "Company #4",
           "offsetgroup": "Company #4",
           "orientation": "v",
           "showlegend": true,
           "textposition": "auto",
           "type": "bar",
           "x": [
            "Company #4"
           ],
           "xaxis": "x",
           "y": [
            2256
           ],
           "yaxis": "y"
          }
         ],
         "name": "1"
        },
        {
         "data": [
          {
           "alignmentgroup": "True",
           "hovertemplate": "entity=%{x}<br>version=2<br>links=%{y}<extra></extra>",
           "legendgroup": "Company #1",
           "marker": {
            "color": "#636efa"
           },
           "name": "Company #1",
           "offsetgroup": "Company #1",
           "orientation": "v",
           "showlegend": true,
           "textposition": "auto",
           "type": "bar",
           "x": [
            "Company #1"
           ],
           "xaxis": "x",
           "y": [
            429
           ],
           "yaxis": "y"
          },
          {
           "alignmentgroup": "True",
           "hovertemplate": "entity=%{x}<br>version=2<br>links=%{y}<extra></extra>",
           "legendgroup": "Company #2",
           "marker": {
            "color": "#EF553B"
           },
           "name": "Company #2",
           "offsetgroup": "Company #2",
           "orientation": "v",
           "showlegend": true,
           "textposition": "auto",
           "type": "bar",
           "x": [
            "Company #2"
           ],
           "xaxis": "x",
           "y": [
            586
           ],
           "yaxis": "y"
          },
          {
           "alignmentgroup": "True",
           "hovertemplate": "entity=%{x}<br>version=2<br>links=%{y}<extra></extra>",
           "legendgroup": "Company #3",
           "marker": {
            "color": "#00cc96"
           },
           "name": "Company #3",
           "offsetgroup": "Company #3",
           "orientation": "v",
           "showlegend": true,
           "textposition": "auto",
           "type": "bar",
           "x": [
            "Company #3"
           ],
           "xaxis": "x",
           "y": [
            871
           ],
           "yaxis": "y"
          },
          {
           "alignmentgroup": "True",
           "hovertemplate": "entity=%{x}<br>version=2<br>links=%{y}<extra></extra>",
           "legendgroup": "Company #4",
           "marker": {
            "color": "#ab63fa"
           },
           "name": "Company #4",
           "offsetgroup": "Company #4",
           "orientation": "v",
           "showlegend": true,
           "textposition": "auto",
           "type": "bar",
           "x": [
            "Company #4"
           ],
           "xaxis": "x",
           "y": [
            2318
           ],
           "yaxis": "y"
          }
         ],
         "name": "2"
        },
        {
         "data": [
          {
           "alignmentgroup": "True",
           "hovertemplate": "entity=%{x}<br>version=3<br>links=%{y}<extra></extra>",
           "legendgroup": "Company #1",
           "marker": {
            "color": "#636efa"
           },
           "name": "Company #1",
           "offsetgroup": "Company #1",
           "orientation": "v",
           "showlegend": true,
           "textposition": "auto",
           "type": "bar",
           "x": [
            "Company #1"
           ],
           "xaxis": "x",
           "y": [
            453
           ],
           "yaxis": "y"
          },
          {
           "alignmentgroup": "True",
           "hovertemplate": "entity=%{x}<br>version=3<br>links=%{y}<extra></extra>",
           "legendgroup": "Company #2",
           "marker": {
            "color": "#EF553B"
           },
           "name": "Company #2",
           "offsetgroup": "Company #2",
           "orientation": "v",
           "showlegend": true,
           "textposition": "auto",
           "type": "bar",
           "x": [
            "Company #2"
           ],
           "xaxis": "x",
           "y": [
            611
           ],
           "yaxis": "y"
          },
          {
           "alignmentgroup": "True",
           "hovertemplate": "entity=%{x}<br>version=3<br>links=%{y}<extra></extra>",
           "legendgroup": "Company #3",
           "marker": {
            "color": "#00cc96"
           },
           "name": "Company #3",
           "offsetgroup": "Company #3",
           "orientation": "v",
           "showlegend": true,
           "textposition": "auto",
           "type": "bar",
           "x": [
            "Company #3"
           ],
           "xaxis": "x",
           "y": [
            1063
           ],
           "yaxis": "y"
          },
          {
           "alignmentgroup": "True",
           "hovertemplate": "entity=%{x}<br>version=3<br>links=%{y}<extra></extra>",
           "legendgroup": "Company #4",
           "marker": {
            "color": "#ab63fa"
           },
           "name": "Company #4",
           "offsetgroup": "Company #4",
           "orientation": "v",
           "showlegend": true,
           "textposition": "auto",
           "type": "bar",
           "x": [
            "Company #4"
           ],
           "xaxis": "x",
           "y": [
            2380
           ],
           "yaxis": "y"
          }
         ],
         "name": "3"
        },
        {
         "data": [
          {
           "alignmentgroup": "True",
           "hovertemplate": "entity=%{x}<br>version=4<br>links=%{y}<extra></extra>",
           "legendgroup": "Company #1",
           "marker": {
            "color": "#636efa"
           },
           "name": "Company #1",
           "offsetgroup": "Company #1",
           "orientation": "v",
           "showlegend": true,
           "textposition": "auto",
           "type": "bar",
           "x": [
            "Company #1"
           ],
           "xaxis": "x",
           "y": [
            477
           ],
           "yaxis": "y"
          },
          {
           "alignmentgroup": "True",
           "hovertemplate": "entity=%{x}<br>version=4<br>links=%{y}<extra></extra>",
           "legendgroup": "Company #2",
           "marker": {
            "color": "#EF553B"
           },
           "name": "Company #2",
           "offsetgroup": "Company #2",
           "orientation": "v",
           "showlegend": true,
           "textposition": "auto",
           "type": "bar",
           "x": [
            "Company #2"
           ],
           "xaxis": "x",
           "y": [
            636
           ],
           "yaxis": "y"
          },
          {
           "alignmentgroup": "True",
           "hovertemplate": "entity=%{x}<br>version=4<br>links=%{y}<extra></extra>",
           "legendgroup": "Company #3",
           "marker": {
            "color": "#00cc96"
           },
           "name": "Company #3",
           "offsetgroup": "Company #3",
           "orientation": "v",
           "showlegend": true,
           "textposition": "auto",
           "type": "bar",
           "x": [
            "Company #3"
           ],
           "xaxis": "x",
           "y": [
            1255
           ],
           "yaxis": "y"
          },
          {
           "alignmentgroup": "True",
           "hovertemplate": "entity=%{x}<br>version=4<br>links=%{y}<extra></extra>",
           "legendgroup": "Company #4",
           "marker": {
            "color": "#ab63fa"
           },
           "name": "Company #4",
           "offsetgroup": "Company #4",
           "orientation": "v",
           "showlegend": true,
           "textposition": "auto",
           "type": "bar",
           "x": [
            "Company #4"
           ],
           "xaxis": "x",
           "y": [
            2442
           ],
           "yaxis": "y"
          }
         ],
         "name": "4"
        },
        {
         "data": [
          {
           "alignmentgroup": "True",
           "hovertemplate": "entity=%{x}<br>version=5<br>links=%{y}<extra></extra>",
           "legendgroup": "Company #1",
           "marker": {
            "color": "#636efa"
           },
           "name": "Company #1",
           "offsetgroup": "Company #1",
           "orientation": "v",
           "showlegend": true,
           "textposition": "auto",
           "type": "bar",
           "x": [
            "Company #1"
           ],
           "xaxis": "x",
           "y": [
            501
           ],
           "yaxis": "y"
          },
          {
           "alignmentgroup": "True",
           "hovertemplate": "entity=%{x}<br>version=5<br>links=%{y}<extra></extra>",
           "legendgroup": "Company #2",
           "marker": {
            "color": "#EF553B"
           },
           "name": "Company #2",
           "offsetgroup": "Company #2",
           "orientation": "v",
           "showlegend": true,
           "textposition": "auto",
           "type": "bar",
           "x": [
            "Company #2"
           ],
           "xaxis": "x",
           "y": [
            661
           ],
           "yaxis": "y"
          },
          {
           "alignmentgroup": "True",
           "hovertemplate": "entity=%{x}<br>version=5<br>links=%{y}<extra></extra>",
           "legendgroup": "Company #3",
           "marker": {
            "color": "#00cc96"
           },
           "name": "Company #3",
           "offsetgroup": "Company #3",
           "orientation": "v",
           "showlegend": true,
           "textposition": "auto",
           "type": "bar",
           "x": [
            "Company #3"
           ],
           "xaxis": "x",
           "y": [
            1447
           ],
           "yaxis": "y"
          },
          {
           "alignmentgroup": "True",
           "hovertemplate": "entity=%{x}<br>version=5<br>links=%{y}<extra></extra>",
           "legendgroup": "Company #4",
           "marker": {
            "color": "#ab63fa"
           },
           "name": "Company #4",
           "offsetgroup": "Company #4",
           "orientation": "v",
           "showlegend": true,
           "textposition": "auto",
           "type": "bar",
           "x": [
            "Company #4"
           ],
           "xaxis": "x",
           "y": [
            2504
           ],
           "yaxis": "y"
          }
         ],
         "name": "5"
        },
        {
         "data": [
          {
           "alignmentgroup": "True",
           "hovertemplate": "entity=%{x}<br>version=6<br>links=%{y}<extra></extra>",
           "legendgroup": "Company #1",
           "marker": {
            "color": "#636efa"
           },
           "name": "Company #1",
           "offsetgroup": "Company #1",
           "orientation": "v",
           "showlegend": true,
           "textposition": "auto",
           "type": "bar",
           "x": [
            "Company #1"
           ],
           "xaxis": "x",
           "y": [
            525
           ],
           "yaxis": "y"
          },
          {
           "alignmentgroup": "True",
           "hovertemplate": "entity=%{x}<br>version=6<br>links=%{y}<extra></extra>",
           "legendgroup": "Company #2",
           "marker": {
            "color": "#EF553B"
           },
           "name": "Company #2",
           "offsetgroup": "Company #2",
           "orientation": "v",
           "showlegend": true,
           "textposition": "auto",
           "type": "bar",
           "x": [
            "Company #2"
           ],
           "xaxis": "x",
           "y": [
            686
           ],
           "yaxis": "y"
          },
          {
           "alignmentgroup": "True",
           "hovertemplate": "entity=%{x}<br>version=6<br>links=%{y}<extra></extra>",
           "legendgroup": "Company #3",
           "marker": {
            "color": "#00cc96"
           },
           "name": "Company #3",
           "offsetgroup": "Company #3",
           "orientation": "v",
           "showlegend": true,
           "textposition": "auto",
           "type": "bar",
           "x": [
            "Company #3"
           ],
           "xaxis": "x",
           "y": [
            1639
           ],
           "yaxis": "y"
          },
          {
           "alignmentgroup": "True",
           "hovertemplate": "entity=%{x}<br>version=6<br>links=%{y}<extra></extra>",
           "legendgroup": "Company #4",
           "marker": {
            "color": "#ab63fa"
           },
           "name": "Company #4",
           "offsetgroup": "Company #4",
           "orientation": "v",
           "showlegend": true,
           "textposition": "auto",
           "type": "bar",
           "x": [
            "Company #4"
           ],
           "xaxis": "x",
           "y": [
            2566
           ],
           "yaxis": "y"
          }
         ],
         "name": "6"
        },
        {
         "data": [
          {
           "alignmentgroup": "True",
           "hovertemplate": "entity=%{x}<br>version=7<br>links=%{y}<extra></extra>",
           "legendgroup": "Company #1",
           "marker": {
            "color": "#636efa"
           },
           "name": "Company #1",
           "offsetgroup": "Company #1",
           "orientation": "v",
           "showlegend": true,
           "textposition": "auto",
           "type": "bar",
           "x": [
            "Company #1"
           ],
           "xaxis": "x",
           "y": [
            549
           ],
           "yaxis": "y"
          },
          {
           "alignmentgroup": "True",
           "hovertemplate": "entity=%{x}<br>version=7<br>links=%{y}<extra></extra>",
           "legendgroup": "Company #2",
           "marker": {
            "color": "#EF553B"
           },
           "name": "Company #2",
           "offsetgroup": "Company #2",
           "orientation": "v",
           "showlegend": true,
           "textposition": "auto",
           "type": "bar",
           "x": [
            "Company #2"
           ],
           "xaxis": "x",
           "y": [
            711
           ],
           "yaxis": "y"
          },
          {
           "alignmentgroup": "True",
           "hovertemplate": "entity=%{x}<br>version=7<br>links=%{y}<extra></extra>",
           "legendgroup": "Company #3",
           "marker": {
            "color": "#00cc96"
           },
           "name": "Company #3",
           "offsetgroup": "Company #3",
           "orientation": "v",
           "showlegend": true,
           "textposition": "auto",
           "type": "bar",
           "x": [
            "Company #3"
           ],
           "xaxis": "x",
           "y": [
            1831
           ],
           "yaxis": "y"
          },
          {
           "alignmentgroup": "True",
           "hovertemplate": "entity=%{x}<br>version=7<br>links=%{y}<extra></extra>",
           "legendgroup": "Company #4",
           "marker": {
            "color": "#ab63fa"
           },
           "name": "Company #4",
           "offsetgroup": "Company #4",
           "orientation": "v",
           "showlegend": true,
           "textposition": "auto",
           "type": "bar",
           "x": [
            "Company #4"
           ],
           "xaxis": "x",
           "y": [
            2628
           ],
           "yaxis": "y"
          }
         ],
         "name": "7"
        },
        {
         "data": [
          {
           "alignmentgroup": "True",
           "hovertemplate": "entity=%{x}<br>version=8<br>links=%{y}<extra></extra>",
           "legendgroup": "Company #1",
           "marker": {
            "color": "#636efa"
           },
           "name": "Company #1",
           "offsetgroup": "Company #1",
           "orientation": "v",
           "showlegend": true,
           "textposition": "auto",
           "type": "bar",
           "x": [
            "Company #1"
           ],
           "xaxis": "x",
           "y": [
            573
           ],
           "yaxis": "y"
          },
          {
           "alignmentgroup": "True",
           "hovertemplate": "entity=%{x}<br>version=8<br>links=%{y}<extra></extra>",
           "legendgroup": "Company #2",
           "marker": {
            "color": "#EF553B"
           },
           "name": "Company #2",
           "offsetgroup": "Company #2",
           "orientation": "v",
           "showlegend": true,
           "textposition": "auto",
           "type": "bar",
           "x": [
            "Company #2"
           ],
           "xaxis": "x",
           "y": [
            736
           ],
           "yaxis": "y"
          },
          {
           "alignmentgroup": "True",
           "hovertemplate": "entity=%{x}<br>version=8<br>links=%{y}<extra></extra>",
           "legendgroup": "Company #3",
           "marker": {
            "color": "#00cc96"
           },
           "name": "Company #3",
           "offsetgroup": "Company #3",
           "orientation": "v",
           "showlegend": true,
           "textposition": "auto",
           "type": "bar",
           "x": [
            "Company #3"
           ],
           "xaxis": "x",
           "y": [
            2023
           ],
           "yaxis": "y"
          },
          {
           "alignmentgroup": "True",
           "hovertemplate": "entity=%{x}<br>version=8<br>links=%{y}<extra></extra>",
           "legendgroup": "Company #4",
           "marker": {
            "color": "#ab63fa"
           },
           "name": "Company #4",
           "offsetgroup": "Company #4",
           "orientation": "v",
           "showlegend": true,
           "textposition": "auto",
           "type": "bar",
           "x": [
            "Company #4"
           ],
           "xaxis": "x",
           "y": [
            2690
           ],
           "yaxis": "y"
          }
         ],
         "name": "8"
        }
       ],
       "layout": {
        "barmode": "relative",
        "legend": {
         "title": {
          "text": "entity"
         },
         "tracegroupgap": 0
        },
        "margin": {
         "t": 60
        },
        "paper_bgcolor": "rgba(0, 0, 0, 0)",
        "plot_bgcolor": "rgba(0, 0, 0, 0)",
        "showlegend": false,
        "template": {
         "data": {
          "bar": [
           {
            "error_x": {
             "color": "#2a3f5f"
            },
            "error_y": {
             "color": "#2a3f5f"
            },
            "marker": {
             "line": {
              "color": "#E5ECF6",
              "width": 0.5
             }
            },
            "type": "bar"
           }
          ],
          "barpolar": [
           {
            "marker": {
             "line": {
              "color": "#E5ECF6",
              "width": 0.5
             }
            },
            "type": "barpolar"
           }
          ],
          "carpet": [
           {
            "aaxis": {
             "endlinecolor": "#2a3f5f",
             "gridcolor": "white",
             "linecolor": "white",
             "minorgridcolor": "white",
             "startlinecolor": "#2a3f5f"
            },
            "baxis": {
             "endlinecolor": "#2a3f5f",
             "gridcolor": "white",
             "linecolor": "white",
             "minorgridcolor": "white",
             "startlinecolor": "#2a3f5f"
            },
            "type": "carpet"
           }
          ],
          "choropleth": [
           {
            "colorbar": {
             "outlinewidth": 0,
             "ticks": ""
            },
            "type": "choropleth"
           }
          ],
          "contour": [
           {
            "colorbar": {
             "outlinewidth": 0,
             "ticks": ""
            },
            "colorscale": [
             [
              0,
              "#0d0887"
             ],
             [
              0.1111111111111111,
              "#46039f"
             ],
             [
              0.2222222222222222,
              "#7201a8"
             ],
             [
              0.3333333333333333,
              "#9c179e"
             ],
             [
              0.4444444444444444,
              "#bd3786"
             ],
             [
              0.5555555555555556,
              "#d8576b"
             ],
             [
              0.6666666666666666,
              "#ed7953"
             ],
             [
              0.7777777777777778,
              "#fb9f3a"
             ],
             [
              0.8888888888888888,
              "#fdca26"
             ],
             [
              1,
              "#f0f921"
             ]
            ],
            "type": "contour"
           }
          ],
          "contourcarpet": [
           {
            "colorbar": {
             "outlinewidth": 0,
             "ticks": ""
            },
            "type": "contourcarpet"
           }
          ],
          "heatmap": [
           {
            "colorbar": {
             "outlinewidth": 0,
             "ticks": ""
            },
            "colorscale": [
             [
              0,
              "#0d0887"
             ],
             [
              0.1111111111111111,
              "#46039f"
             ],
             [
              0.2222222222222222,
              "#7201a8"
             ],
             [
              0.3333333333333333,
              "#9c179e"
             ],
             [
              0.4444444444444444,
              "#bd3786"
             ],
             [
              0.5555555555555556,
              "#d8576b"
             ],
             [
              0.6666666666666666,
              "#ed7953"
             ],
             [
              0.7777777777777778,
              "#fb9f3a"
             ],
             [
              0.8888888888888888,
              "#fdca26"
             ],
             [
              1,
              "#f0f921"
             ]
            ],
            "type": "heatmap"
           }
          ],
          "heatmapgl": [
           {
            "colorbar": {
             "outlinewidth": 0,
             "ticks": ""
            },
            "colorscale": [
             [
              0,
              "#0d0887"
             ],
             [
              0.1111111111111111,
              "#46039f"
             ],
             [
              0.2222222222222222,
              "#7201a8"
             ],
             [
              0.3333333333333333,
              "#9c179e"
             ],
             [
              0.4444444444444444,
              "#bd3786"
             ],
             [
              0.5555555555555556,
              "#d8576b"
             ],
             [
              0.6666666666666666,
              "#ed7953"
             ],
             [
              0.7777777777777778,
              "#fb9f3a"
             ],
             [
              0.8888888888888888,
              "#fdca26"
             ],
             [
              1,
              "#f0f921"
             ]
            ],
            "type": "heatmapgl"
           }
          ],
          "histogram": [
           {
            "marker": {
             "colorbar": {
              "outlinewidth": 0,
              "ticks": ""
             }
            },
            "type": "histogram"
           }
          ],
          "histogram2d": [
           {
            "colorbar": {
             "outlinewidth": 0,
             "ticks": ""
            },
            "colorscale": [
             [
              0,
              "#0d0887"
             ],
             [
              0.1111111111111111,
              "#46039f"
             ],
             [
              0.2222222222222222,
              "#7201a8"
             ],
             [
              0.3333333333333333,
              "#9c179e"
             ],
             [
              0.4444444444444444,
              "#bd3786"
             ],
             [
              0.5555555555555556,
              "#d8576b"
             ],
             [
              0.6666666666666666,
              "#ed7953"
             ],
             [
              0.7777777777777778,
              "#fb9f3a"
             ],
             [
              0.8888888888888888,
              "#fdca26"
             ],
             [
              1,
              "#f0f921"
             ]
            ],
            "type": "histogram2d"
           }
          ],
          "histogram2dcontour": [
           {
            "colorbar": {
             "outlinewidth": 0,
             "ticks": ""
            },
            "colorscale": [
             [
              0,
              "#0d0887"
             ],
             [
              0.1111111111111111,
              "#46039f"
             ],
             [
              0.2222222222222222,
              "#7201a8"
             ],
             [
              0.3333333333333333,
              "#9c179e"
             ],
             [
              0.4444444444444444,
              "#bd3786"
             ],
             [
              0.5555555555555556,
              "#d8576b"
             ],
             [
              0.6666666666666666,
              "#ed7953"
             ],
             [
              0.7777777777777778,
              "#fb9f3a"
             ],
             [
              0.8888888888888888,
              "#fdca26"
             ],
             [
              1,
              "#f0f921"
             ]
            ],
            "type": "histogram2dcontour"
           }
          ],
          "mesh3d": [
           {
            "colorbar": {
             "outlinewidth": 0,
             "ticks": ""
            },
            "type": "mesh3d"
           }
          ],
          "parcoords": [
           {
            "line": {
             "colorbar": {
              "outlinewidth": 0,
              "ticks": ""
             }
            },
            "type": "parcoords"
           }
          ],
          "pie": [
           {
            "automargin": true,
            "type": "pie"
           }
          ],
          "scatter": [
           {
            "marker": {
             "colorbar": {
              "outlinewidth": 0,
              "ticks": ""
             }
            },
            "type": "scatter"
           }
          ],
          "scatter3d": [
           {
            "line": {
             "colorbar": {
              "outlinewidth": 0,
              "ticks": ""
             }
            },
            "marker": {
             "colorbar": {
              "outlinewidth": 0,
              "ticks": ""
             }
            },
            "type": "scatter3d"
           }
          ],
          "scattercarpet": [
           {
            "marker": {
             "colorbar": {
              "outlinewidth": 0,
              "ticks": ""
             }
            },
            "type": "scattercarpet"
           }
          ],
          "scattergeo": [
           {
            "marker": {
             "colorbar": {
              "outlinewidth": 0,
              "ticks": ""
             }
            },
            "type": "scattergeo"
           }
          ],
          "scattergl": [
           {
            "marker": {
             "colorbar": {
              "outlinewidth": 0,
              "ticks": ""
             }
            },
            "type": "scattergl"
           }
          ],
          "scattermapbox": [
           {
            "marker": {
             "colorbar": {
              "outlinewidth": 0,
              "ticks": ""
             }
            },
            "type": "scattermapbox"
           }
          ],
          "scatterpolar": [
           {
            "marker": {
             "colorbar": {
              "outlinewidth": 0,
              "ticks": ""
             }
            },
            "type": "scatterpolar"
           }
          ],
          "scatterpolargl": [
           {
            "marker": {
             "colorbar": {
              "outlinewidth": 0,
              "ticks": ""
             }
            },
            "type": "scatterpolargl"
           }
          ],
          "scatterternary": [
           {
            "marker": {
             "colorbar": {
              "outlinewidth": 0,
              "ticks": ""
             }
            },
            "type": "scatterternary"
           }
          ],
          "surface": [
           {
            "colorbar": {
             "outlinewidth": 0,
             "ticks": ""
            },
            "colorscale": [
             [
              0,
              "#0d0887"
             ],
             [
              0.1111111111111111,
              "#46039f"
             ],
             [
              0.2222222222222222,
              "#7201a8"
             ],
             [
              0.3333333333333333,
              "#9c179e"
             ],
             [
              0.4444444444444444,
              "#bd3786"
             ],
             [
              0.5555555555555556,
              "#d8576b"
             ],
             [
              0.6666666666666666,
              "#ed7953"
             ],
             [
              0.7777777777777778,
              "#fb9f3a"
             ],
             [
              0.8888888888888888,
              "#fdca26"
             ],
             [
              1,
              "#f0f921"
             ]
            ],
            "type": "surface"
           }
          ],
          "table": [
           {
            "cells": {
             "fill": {
              "color": "#EBF0F8"
             },
             "line": {
              "color": "white"
             }
            },
            "header": {
             "fill": {
              "color": "#C8D4E3"
             },
             "line": {
              "color": "white"
             }
            },
            "type": "table"
           }
          ]
         },
         "layout": {
          "annotationdefaults": {
           "arrowcolor": "#2a3f5f",
           "arrowhead": 0,
           "arrowwidth": 1
          },
          "coloraxis": {
           "colorbar": {
            "outlinewidth": 0,
            "ticks": ""
           }
          },
          "colorscale": {
           "diverging": [
            [
             0,
             "#8e0152"
            ],
            [
             0.1,
             "#c51b7d"
            ],
            [
             0.2,
             "#de77ae"
            ],
            [
             0.3,
             "#f1b6da"
            ],
            [
             0.4,
             "#fde0ef"
            ],
            [
             0.5,
             "#f7f7f7"
            ],
            [
             0.6,
             "#e6f5d0"
            ],
            [
             0.7,
             "#b8e186"
            ],
            [
             0.8,
             "#7fbc41"
            ],
            [
             0.9,
             "#4d9221"
            ],
            [
             1,
             "#276419"
            ]
           ],
           "sequential": [
            [
             0,
             "#0d0887"
            ],
            [
             0.1111111111111111,
             "#46039f"
            ],
            [
             0.2222222222222222,
             "#7201a8"
            ],
            [
             0.3333333333333333,
             "#9c179e"
            ],
            [
             0.4444444444444444,
             "#bd3786"
            ],
            [
             0.5555555555555556,
             "#d8576b"
            ],
            [
             0.6666666666666666,
             "#ed7953"
            ],
            [
             0.7777777777777778,
             "#fb9f3a"
            ],
            [
             0.8888888888888888,
             "#fdca26"
            ],
            [
             1,
             "#f0f921"
            ]
           ],
           "sequentialminus": [
            [
             0,
             "#0d0887"
            ],
            [
             0.1111111111111111,
             "#46039f"
            ],
            [
             0.2222222222222222,
             "#7201a8"
            ],
            [
             0.3333333333333333,
             "#9c179e"
            ],
            [
             0.4444444444444444,
             "#bd3786"
            ],
            [
             0.5555555555555556,
             "#d8576b"
            ],
            [
             0.6666666666666666,
             "#ed7953"
            ],
            [
             0.7777777777777778,
             "#fb9f3a"
            ],
            [
             0.8888888888888888,
             "#fdca26"
            ],
            [
             1,
             "#f0f921"
            ]
           ]
          },
          "colorway": [
           "#636efa",
           "#EF553B",
           "#00cc96",
           "#ab63fa",
           "#FFA15A",
           "#19d3f3",
           "#FF6692",
           "#B6E880",
           "#FF97FF",
           "#FECB52"
          ],
          "font": {
           "color": "#2a3f5f"
          },
          "geo": {
           "bgcolor": "white",
           "lakecolor": "white",
           "landcolor": "#E5ECF6",
           "showlakes": true,
           "showland": true,
           "subunitcolor": "white"
          },
          "hoverlabel": {
           "align": "left"
          },
          "hovermode": "closest",
          "mapbox": {
           "style": "light"
          },
          "paper_bgcolor": "white",
          "plot_bgcolor": "#E5ECF6",
          "polar": {
           "angularaxis": {
            "gridcolor": "white",
            "linecolor": "white",
            "ticks": ""
           },
           "bgcolor": "#E5ECF6",
           "radialaxis": {
            "gridcolor": "white",
            "linecolor": "white",
            "ticks": ""
           }
          },
          "scene": {
           "xaxis": {
            "backgroundcolor": "#E5ECF6",
            "gridcolor": "white",
            "gridwidth": 2,
            "linecolor": "white",
            "showbackground": true,
            "ticks": "",
            "zerolinecolor": "white"
           },
           "yaxis": {
            "backgroundcolor": "#E5ECF6",
            "gridcolor": "white",
            "gridwidth": 2,
            "linecolor": "white",
            "showbackground": true,
            "ticks": "",
            "zerolinecolor": "white"
           },
           "zaxis": {
            "backgroundcolor": "#E5ECF6",
            "gridcolor": "white",
            "gridwidth": 2,
            "linecolor": "white",
            "showbackground": true,
            "ticks": "",
            "zerolinecolor": "white"
           }
          },
          "shapedefaults": {
           "line": {
            "color": "#2a3f5f"
           }
          },
          "ternary": {
           "aaxis": {
            "gridcolor": "white",
            "linecolor": "white",
            "ticks": ""
           },
           "baxis": {
            "gridcolor": "white",
            "linecolor": "white",
            "ticks": ""
           },
           "bgcolor": "#E5ECF6",
           "caxis": {
            "gridcolor": "white",
            "linecolor": "white",
            "ticks": ""
           }
          },
          "title": {
           "x": 0.05
          },
          "xaxis": {
           "automargin": true,
           "gridcolor": "white",
           "linecolor": "white",
           "ticks": "",
           "title": {
            "standoff": 15
           },
           "zerolinecolor": "white",
           "zerolinewidth": 2
          },
          "yaxis": {
           "automargin": true,
           "gridcolor": "white",
           "linecolor": "white",
           "ticks": "",
           "title": {
            "standoff": 15
           },
           "zerolinecolor": "white",
           "zerolinewidth": 2
          }
         }
        },
        "title": {
         "text": "Increasing Potential COIs Identified: # Contracts Linked to Companies (167% Increase)\n                           <br><i style='font-size:12;'>         *companies have been anonymized</i>"
        },
        "transition": {
         "duration": 1
        },
        "xaxis": {
         "anchor": "y",
         "categoryarray": [
          "Company #1",
          "Company #2",
          "Company #3",
          "Company #4"
         ],
         "categoryorder": "total descending",
         "domain": [
          0,
          1
         ],
         "title": {
          "text": "Company Name"
         }
        },
        "yaxis": {
         "anchor": "x",
         "domain": [
          0,
          1
         ],
         "range": [
          0,
          2790
         ],
         "title": {
          "text": "Identified Links"
         }
        }
       }
      },
      "text/html": [
       "<div>\n",
       "        \n",
       "        \n",
       "            <div id=\"29328dc0-8d39-43df-bda3-ddc588c29d5a\" class=\"plotly-graph-div\" style=\"height:525px; width:100%;\"></div>\n",
       "            <script type=\"text/javascript\">\n",
       "                require([\"plotly\"], function(Plotly) {\n",
       "                    window.PLOTLYENV=window.PLOTLYENV || {};\n",
       "                    \n",
       "                if (document.getElementById(\"29328dc0-8d39-43df-bda3-ddc588c29d5a\")) {\n",
       "                    Plotly.newPlot(\n",
       "                        '29328dc0-8d39-43df-bda3-ddc588c29d5a',\n",
       "                        [{\"alignmentgroup\": \"True\", \"hovertemplate\": \"entity=%{x}<br>version=0<br>links=%{y}<extra></extra>\", \"legendgroup\": \"Company #1\", \"marker\": {\"color\": \"#636efa\"}, \"name\": \"Company #1\", \"offsetgroup\": \"Company #1\", \"orientation\": \"v\", \"showlegend\": true, \"textposition\": \"auto\", \"type\": \"bar\", \"x\": [\"Company #1\"], \"xaxis\": \"x\", \"y\": [381], \"yaxis\": \"y\"}, {\"alignmentgroup\": \"True\", \"hovertemplate\": \"entity=%{x}<br>version=0<br>links=%{y}<extra></extra>\", \"legendgroup\": \"Company #2\", \"marker\": {\"color\": \"#EF553B\"}, \"name\": \"Company #2\", \"offsetgroup\": \"Company #2\", \"orientation\": \"v\", \"showlegend\": true, \"textposition\": \"auto\", \"type\": \"bar\", \"x\": [\"Company #2\"], \"xaxis\": \"x\", \"y\": [536], \"yaxis\": \"y\"}, {\"alignmentgroup\": \"True\", \"hovertemplate\": \"entity=%{x}<br>version=0<br>links=%{y}<extra></extra>\", \"legendgroup\": \"Company #3\", \"marker\": {\"color\": \"#00cc96\"}, \"name\": \"Company #3\", \"offsetgroup\": \"Company #3\", \"orientation\": \"v\", \"showlegend\": true, \"textposition\": \"auto\", \"type\": \"bar\", \"x\": [\"Company #3\"], \"xaxis\": \"x\", \"y\": [487], \"yaxis\": \"y\"}, {\"alignmentgroup\": \"True\", \"hovertemplate\": \"entity=%{x}<br>version=0<br>links=%{y}<extra></extra>\", \"legendgroup\": \"Company #4\", \"marker\": {\"color\": \"#ab63fa\"}, \"name\": \"Company #4\", \"offsetgroup\": \"Company #4\", \"orientation\": \"v\", \"showlegend\": true, \"textposition\": \"auto\", \"type\": \"bar\", \"x\": [\"Company #4\"], \"xaxis\": \"x\", \"y\": [2194], \"yaxis\": \"y\"}],\n",
       "                        {\"barmode\": \"relative\", \"legend\": {\"title\": {\"text\": \"entity\"}, \"tracegroupgap\": 0}, \"margin\": {\"t\": 60}, \"paper_bgcolor\": \"rgba(0, 0, 0, 0)\", \"plot_bgcolor\": \"rgba(0, 0, 0, 0)\", \"showlegend\": false, \"template\": {\"data\": {\"bar\": [{\"error_x\": {\"color\": \"#2a3f5f\"}, \"error_y\": {\"color\": \"#2a3f5f\"}, \"marker\": {\"line\": {\"color\": \"#E5ECF6\", \"width\": 0.5}}, \"type\": \"bar\"}], \"barpolar\": [{\"marker\": {\"line\": {\"color\": \"#E5ECF6\", \"width\": 0.5}}, \"type\": \"barpolar\"}], \"carpet\": [{\"aaxis\": {\"endlinecolor\": \"#2a3f5f\", \"gridcolor\": \"white\", \"linecolor\": \"white\", \"minorgridcolor\": \"white\", \"startlinecolor\": \"#2a3f5f\"}, \"baxis\": {\"endlinecolor\": \"#2a3f5f\", \"gridcolor\": \"white\", \"linecolor\": \"white\", \"minorgridcolor\": \"white\", \"startlinecolor\": \"#2a3f5f\"}, \"type\": \"carpet\"}], \"choropleth\": [{\"colorbar\": {\"outlinewidth\": 0, \"ticks\": \"\"}, \"type\": \"choropleth\"}], \"contour\": [{\"colorbar\": {\"outlinewidth\": 0, \"ticks\": \"\"}, \"colorscale\": [[0.0, \"#0d0887\"], [0.1111111111111111, \"#46039f\"], [0.2222222222222222, \"#7201a8\"], [0.3333333333333333, \"#9c179e\"], [0.4444444444444444, \"#bd3786\"], [0.5555555555555556, \"#d8576b\"], [0.6666666666666666, \"#ed7953\"], [0.7777777777777778, \"#fb9f3a\"], [0.8888888888888888, \"#fdca26\"], [1.0, \"#f0f921\"]], \"type\": \"contour\"}], \"contourcarpet\": [{\"colorbar\": {\"outlinewidth\": 0, \"ticks\": \"\"}, \"type\": \"contourcarpet\"}], \"heatmap\": [{\"colorbar\": {\"outlinewidth\": 0, \"ticks\": \"\"}, \"colorscale\": [[0.0, \"#0d0887\"], [0.1111111111111111, \"#46039f\"], [0.2222222222222222, \"#7201a8\"], [0.3333333333333333, \"#9c179e\"], [0.4444444444444444, \"#bd3786\"], [0.5555555555555556, \"#d8576b\"], [0.6666666666666666, \"#ed7953\"], [0.7777777777777778, \"#fb9f3a\"], [0.8888888888888888, \"#fdca26\"], [1.0, \"#f0f921\"]], \"type\": \"heatmap\"}], \"heatmapgl\": [{\"colorbar\": {\"outlinewidth\": 0, \"ticks\": \"\"}, \"colorscale\": [[0.0, \"#0d0887\"], [0.1111111111111111, \"#46039f\"], [0.2222222222222222, \"#7201a8\"], [0.3333333333333333, \"#9c179e\"], [0.4444444444444444, \"#bd3786\"], [0.5555555555555556, \"#d8576b\"], [0.6666666666666666, \"#ed7953\"], [0.7777777777777778, \"#fb9f3a\"], [0.8888888888888888, \"#fdca26\"], [1.0, \"#f0f921\"]], \"type\": \"heatmapgl\"}], \"histogram\": [{\"marker\": {\"colorbar\": {\"outlinewidth\": 0, \"ticks\": \"\"}}, \"type\": \"histogram\"}], \"histogram2d\": [{\"colorbar\": {\"outlinewidth\": 0, \"ticks\": \"\"}, \"colorscale\": [[0.0, \"#0d0887\"], [0.1111111111111111, \"#46039f\"], [0.2222222222222222, \"#7201a8\"], [0.3333333333333333, \"#9c179e\"], [0.4444444444444444, \"#bd3786\"], [0.5555555555555556, \"#d8576b\"], [0.6666666666666666, \"#ed7953\"], [0.7777777777777778, \"#fb9f3a\"], [0.8888888888888888, \"#fdca26\"], [1.0, \"#f0f921\"]], \"type\": \"histogram2d\"}], \"histogram2dcontour\": [{\"colorbar\": {\"outlinewidth\": 0, \"ticks\": \"\"}, \"colorscale\": [[0.0, \"#0d0887\"], [0.1111111111111111, \"#46039f\"], [0.2222222222222222, \"#7201a8\"], [0.3333333333333333, \"#9c179e\"], [0.4444444444444444, \"#bd3786\"], [0.5555555555555556, \"#d8576b\"], [0.6666666666666666, \"#ed7953\"], [0.7777777777777778, \"#fb9f3a\"], [0.8888888888888888, \"#fdca26\"], [1.0, \"#f0f921\"]], \"type\": \"histogram2dcontour\"}], \"mesh3d\": [{\"colorbar\": {\"outlinewidth\": 0, \"ticks\": \"\"}, \"type\": \"mesh3d\"}], \"parcoords\": [{\"line\": {\"colorbar\": {\"outlinewidth\": 0, \"ticks\": \"\"}}, \"type\": \"parcoords\"}], \"pie\": [{\"automargin\": true, \"type\": \"pie\"}], \"scatter\": [{\"marker\": {\"colorbar\": {\"outlinewidth\": 0, \"ticks\": \"\"}}, \"type\": \"scatter\"}], \"scatter3d\": [{\"line\": {\"colorbar\": {\"outlinewidth\": 0, \"ticks\": \"\"}}, \"marker\": {\"colorbar\": {\"outlinewidth\": 0, \"ticks\": \"\"}}, \"type\": \"scatter3d\"}], \"scattercarpet\": [{\"marker\": {\"colorbar\": {\"outlinewidth\": 0, \"ticks\": \"\"}}, \"type\": \"scattercarpet\"}], \"scattergeo\": [{\"marker\": {\"colorbar\": {\"outlinewidth\": 0, \"ticks\": \"\"}}, \"type\": \"scattergeo\"}], \"scattergl\": [{\"marker\": {\"colorbar\": {\"outlinewidth\": 0, \"ticks\": \"\"}}, \"type\": \"scattergl\"}], \"scattermapbox\": [{\"marker\": {\"colorbar\": {\"outlinewidth\": 0, \"ticks\": \"\"}}, \"type\": \"scattermapbox\"}], \"scatterpolar\": [{\"marker\": {\"colorbar\": {\"outlinewidth\": 0, \"ticks\": \"\"}}, \"type\": \"scatterpolar\"}], \"scatterpolargl\": [{\"marker\": {\"colorbar\": {\"outlinewidth\": 0, \"ticks\": \"\"}}, \"type\": \"scatterpolargl\"}], \"scatterternary\": [{\"marker\": {\"colorbar\": {\"outlinewidth\": 0, \"ticks\": \"\"}}, \"type\": \"scatterternary\"}], \"surface\": [{\"colorbar\": {\"outlinewidth\": 0, \"ticks\": \"\"}, \"colorscale\": [[0.0, \"#0d0887\"], [0.1111111111111111, \"#46039f\"], [0.2222222222222222, \"#7201a8\"], [0.3333333333333333, \"#9c179e\"], [0.4444444444444444, \"#bd3786\"], [0.5555555555555556, \"#d8576b\"], [0.6666666666666666, \"#ed7953\"], [0.7777777777777778, \"#fb9f3a\"], [0.8888888888888888, \"#fdca26\"], [1.0, \"#f0f921\"]], \"type\": \"surface\"}], \"table\": [{\"cells\": {\"fill\": {\"color\": \"#EBF0F8\"}, \"line\": {\"color\": \"white\"}}, \"header\": {\"fill\": {\"color\": \"#C8D4E3\"}, \"line\": {\"color\": \"white\"}}, \"type\": \"table\"}]}, \"layout\": {\"annotationdefaults\": {\"arrowcolor\": \"#2a3f5f\", \"arrowhead\": 0, \"arrowwidth\": 1}, \"coloraxis\": {\"colorbar\": {\"outlinewidth\": 0, \"ticks\": \"\"}}, \"colorscale\": {\"diverging\": [[0, \"#8e0152\"], [0.1, \"#c51b7d\"], [0.2, \"#de77ae\"], [0.3, \"#f1b6da\"], [0.4, \"#fde0ef\"], [0.5, \"#f7f7f7\"], [0.6, \"#e6f5d0\"], [0.7, \"#b8e186\"], [0.8, \"#7fbc41\"], [0.9, \"#4d9221\"], [1, \"#276419\"]], \"sequential\": [[0.0, \"#0d0887\"], [0.1111111111111111, \"#46039f\"], [0.2222222222222222, \"#7201a8\"], [0.3333333333333333, \"#9c179e\"], [0.4444444444444444, \"#bd3786\"], [0.5555555555555556, \"#d8576b\"], [0.6666666666666666, \"#ed7953\"], [0.7777777777777778, \"#fb9f3a\"], [0.8888888888888888, \"#fdca26\"], [1.0, \"#f0f921\"]], \"sequentialminus\": [[0.0, \"#0d0887\"], [0.1111111111111111, \"#46039f\"], [0.2222222222222222, \"#7201a8\"], [0.3333333333333333, \"#9c179e\"], [0.4444444444444444, \"#bd3786\"], [0.5555555555555556, \"#d8576b\"], [0.6666666666666666, \"#ed7953\"], [0.7777777777777778, \"#fb9f3a\"], [0.8888888888888888, \"#fdca26\"], [1.0, \"#f0f921\"]]}, \"colorway\": [\"#636efa\", \"#EF553B\", \"#00cc96\", \"#ab63fa\", \"#FFA15A\", \"#19d3f3\", \"#FF6692\", \"#B6E880\", \"#FF97FF\", \"#FECB52\"], \"font\": {\"color\": \"#2a3f5f\"}, \"geo\": {\"bgcolor\": \"white\", \"lakecolor\": \"white\", \"landcolor\": \"#E5ECF6\", \"showlakes\": true, \"showland\": true, \"subunitcolor\": \"white\"}, \"hoverlabel\": {\"align\": \"left\"}, \"hovermode\": \"closest\", \"mapbox\": {\"style\": \"light\"}, \"paper_bgcolor\": \"white\", \"plot_bgcolor\": \"#E5ECF6\", \"polar\": {\"angularaxis\": {\"gridcolor\": \"white\", \"linecolor\": \"white\", \"ticks\": \"\"}, \"bgcolor\": \"#E5ECF6\", \"radialaxis\": {\"gridcolor\": \"white\", \"linecolor\": \"white\", \"ticks\": \"\"}}, \"scene\": {\"xaxis\": {\"backgroundcolor\": \"#E5ECF6\", \"gridcolor\": \"white\", \"gridwidth\": 2, \"linecolor\": \"white\", \"showbackground\": true, \"ticks\": \"\", \"zerolinecolor\": \"white\"}, \"yaxis\": {\"backgroundcolor\": \"#E5ECF6\", \"gridcolor\": \"white\", \"gridwidth\": 2, \"linecolor\": \"white\", \"showbackground\": true, \"ticks\": \"\", \"zerolinecolor\": \"white\"}, \"zaxis\": {\"backgroundcolor\": \"#E5ECF6\", \"gridcolor\": \"white\", \"gridwidth\": 2, \"linecolor\": \"white\", \"showbackground\": true, \"ticks\": \"\", \"zerolinecolor\": \"white\"}}, \"shapedefaults\": {\"line\": {\"color\": \"#2a3f5f\"}}, \"ternary\": {\"aaxis\": {\"gridcolor\": \"white\", \"linecolor\": \"white\", \"ticks\": \"\"}, \"baxis\": {\"gridcolor\": \"white\", \"linecolor\": \"white\", \"ticks\": \"\"}, \"bgcolor\": \"#E5ECF6\", \"caxis\": {\"gridcolor\": \"white\", \"linecolor\": \"white\", \"ticks\": \"\"}}, \"title\": {\"x\": 0.05}, \"xaxis\": {\"automargin\": true, \"gridcolor\": \"white\", \"linecolor\": \"white\", \"ticks\": \"\", \"title\": {\"standoff\": 15}, \"zerolinecolor\": \"white\", \"zerolinewidth\": 2}, \"yaxis\": {\"automargin\": true, \"gridcolor\": \"white\", \"linecolor\": \"white\", \"ticks\": \"\", \"title\": {\"standoff\": 15}, \"zerolinecolor\": \"white\", \"zerolinewidth\": 2}}}, \"title\": {\"text\": \"Increasing Potential COIs Identified: # Contracts Linked to Companies (167% Increase)\\n                           <br><i style='font-size:12;'>         *companies have been anonymized</i>\"}, \"transition\": {\"duration\": 1}, \"xaxis\": {\"anchor\": \"y\", \"categoryarray\": [\"Company #1\", \"Company #2\", \"Company #3\", \"Company #4\"], \"categoryorder\": \"total descending\", \"domain\": [0.0, 1.0], \"title\": {\"text\": \"Company Name\"}}, \"yaxis\": {\"anchor\": \"x\", \"domain\": [0.0, 1.0], \"range\": [0, 2790], \"title\": {\"text\": \"Identified Links\"}}},\n",
       "                        {\"responsive\": true}\n",
       "                    ).then(function(){\n",
       "                            Plotly.addFrames('29328dc0-8d39-43df-bda3-ddc588c29d5a', [{\"data\": [{\"alignmentgroup\": \"True\", \"hovertemplate\": \"entity=%{x}<br>version=0<br>links=%{y}<extra></extra>\", \"legendgroup\": \"Company #1\", \"marker\": {\"color\": \"#636efa\"}, \"name\": \"Company #1\", \"offsetgroup\": \"Company #1\", \"orientation\": \"v\", \"showlegend\": true, \"textposition\": \"auto\", \"x\": [\"Company #1\"], \"xaxis\": \"x\", \"y\": [381], \"yaxis\": \"y\", \"type\": \"bar\"}, {\"alignmentgroup\": \"True\", \"hovertemplate\": \"entity=%{x}<br>version=0<br>links=%{y}<extra></extra>\", \"legendgroup\": \"Company #2\", \"marker\": {\"color\": \"#EF553B\"}, \"name\": \"Company #2\", \"offsetgroup\": \"Company #2\", \"orientation\": \"v\", \"showlegend\": true, \"textposition\": \"auto\", \"x\": [\"Company #2\"], \"xaxis\": \"x\", \"y\": [536], \"yaxis\": \"y\", \"type\": \"bar\"}, {\"alignmentgroup\": \"True\", \"hovertemplate\": \"entity=%{x}<br>version=0<br>links=%{y}<extra></extra>\", \"legendgroup\": \"Company #3\", \"marker\": {\"color\": \"#00cc96\"}, \"name\": \"Company #3\", \"offsetgroup\": \"Company #3\", \"orientation\": \"v\", \"showlegend\": true, \"textposition\": \"auto\", \"x\": [\"Company #3\"], \"xaxis\": \"x\", \"y\": [487], \"yaxis\": \"y\", \"type\": \"bar\"}, {\"alignmentgroup\": \"True\", \"hovertemplate\": \"entity=%{x}<br>version=0<br>links=%{y}<extra></extra>\", \"legendgroup\": \"Company #4\", \"marker\": {\"color\": \"#ab63fa\"}, \"name\": \"Company #4\", \"offsetgroup\": \"Company #4\", \"orientation\": \"v\", \"showlegend\": true, \"textposition\": \"auto\", \"x\": [\"Company #4\"], \"xaxis\": \"x\", \"y\": [2194], \"yaxis\": \"y\", \"type\": \"bar\"}], \"name\": \"0\"}, {\"data\": [{\"alignmentgroup\": \"True\", \"hovertemplate\": \"entity=%{x}<br>version=1<br>links=%{y}<extra></extra>\", \"legendgroup\": \"Company #1\", \"marker\": {\"color\": \"#636efa\"}, \"name\": \"Company #1\", \"offsetgroup\": \"Company #1\", \"orientation\": \"v\", \"showlegend\": true, \"textposition\": \"auto\", \"x\": [\"Company #1\"], \"xaxis\": \"x\", \"y\": [405], \"yaxis\": \"y\", \"type\": \"bar\"}, {\"alignmentgroup\": \"True\", \"hovertemplate\": \"entity=%{x}<br>version=1<br>links=%{y}<extra></extra>\", \"legendgroup\": \"Company #2\", \"marker\": {\"color\": \"#EF553B\"}, \"name\": \"Company #2\", \"offsetgroup\": \"Company #2\", \"orientation\": \"v\", \"showlegend\": true, \"textposition\": \"auto\", \"x\": [\"Company #2\"], \"xaxis\": \"x\", \"y\": [561], \"yaxis\": \"y\", \"type\": \"bar\"}, {\"alignmentgroup\": \"True\", \"hovertemplate\": \"entity=%{x}<br>version=1<br>links=%{y}<extra></extra>\", \"legendgroup\": \"Company #3\", \"marker\": {\"color\": \"#00cc96\"}, \"name\": \"Company #3\", \"offsetgroup\": \"Company #3\", \"orientation\": \"v\", \"showlegend\": true, \"textposition\": \"auto\", \"x\": [\"Company #3\"], \"xaxis\": \"x\", \"y\": [679], \"yaxis\": \"y\", \"type\": \"bar\"}, {\"alignmentgroup\": \"True\", \"hovertemplate\": \"entity=%{x}<br>version=1<br>links=%{y}<extra></extra>\", \"legendgroup\": \"Company #4\", \"marker\": {\"color\": \"#ab63fa\"}, \"name\": \"Company #4\", \"offsetgroup\": \"Company #4\", \"orientation\": \"v\", \"showlegend\": true, \"textposition\": \"auto\", \"x\": [\"Company #4\"], \"xaxis\": \"x\", \"y\": [2256], \"yaxis\": \"y\", \"type\": \"bar\"}], \"name\": \"1\"}, {\"data\": [{\"alignmentgroup\": \"True\", \"hovertemplate\": \"entity=%{x}<br>version=2<br>links=%{y}<extra></extra>\", \"legendgroup\": \"Company #1\", \"marker\": {\"color\": \"#636efa\"}, \"name\": \"Company #1\", \"offsetgroup\": \"Company #1\", \"orientation\": \"v\", \"showlegend\": true, \"textposition\": \"auto\", \"x\": [\"Company #1\"], \"xaxis\": \"x\", \"y\": [429], \"yaxis\": \"y\", \"type\": \"bar\"}, {\"alignmentgroup\": \"True\", \"hovertemplate\": \"entity=%{x}<br>version=2<br>links=%{y}<extra></extra>\", \"legendgroup\": \"Company #2\", \"marker\": {\"color\": \"#EF553B\"}, \"name\": \"Company #2\", \"offsetgroup\": \"Company #2\", \"orientation\": \"v\", \"showlegend\": true, \"textposition\": \"auto\", \"x\": [\"Company #2\"], \"xaxis\": \"x\", \"y\": [586], \"yaxis\": \"y\", \"type\": \"bar\"}, {\"alignmentgroup\": \"True\", \"hovertemplate\": \"entity=%{x}<br>version=2<br>links=%{y}<extra></extra>\", \"legendgroup\": \"Company #3\", \"marker\": {\"color\": \"#00cc96\"}, \"name\": \"Company #3\", \"offsetgroup\": \"Company #3\", \"orientation\": \"v\", \"showlegend\": true, \"textposition\": \"auto\", \"x\": [\"Company #3\"], \"xaxis\": \"x\", \"y\": [871], \"yaxis\": \"y\", \"type\": \"bar\"}, {\"alignmentgroup\": \"True\", \"hovertemplate\": \"entity=%{x}<br>version=2<br>links=%{y}<extra></extra>\", \"legendgroup\": \"Company #4\", \"marker\": {\"color\": \"#ab63fa\"}, \"name\": \"Company #4\", \"offsetgroup\": \"Company #4\", \"orientation\": \"v\", \"showlegend\": true, \"textposition\": \"auto\", \"x\": [\"Company #4\"], \"xaxis\": \"x\", \"y\": [2318], \"yaxis\": \"y\", \"type\": \"bar\"}], \"name\": \"2\"}, {\"data\": [{\"alignmentgroup\": \"True\", \"hovertemplate\": \"entity=%{x}<br>version=3<br>links=%{y}<extra></extra>\", \"legendgroup\": \"Company #1\", \"marker\": {\"color\": \"#636efa\"}, \"name\": \"Company #1\", \"offsetgroup\": \"Company #1\", \"orientation\": \"v\", \"showlegend\": true, \"textposition\": \"auto\", \"x\": [\"Company #1\"], \"xaxis\": \"x\", \"y\": [453], \"yaxis\": \"y\", \"type\": \"bar\"}, {\"alignmentgroup\": \"True\", \"hovertemplate\": \"entity=%{x}<br>version=3<br>links=%{y}<extra></extra>\", \"legendgroup\": \"Company #2\", \"marker\": {\"color\": \"#EF553B\"}, \"name\": \"Company #2\", \"offsetgroup\": \"Company #2\", \"orientation\": \"v\", \"showlegend\": true, \"textposition\": \"auto\", \"x\": [\"Company #2\"], \"xaxis\": \"x\", \"y\": [611], \"yaxis\": \"y\", \"type\": \"bar\"}, {\"alignmentgroup\": \"True\", \"hovertemplate\": \"entity=%{x}<br>version=3<br>links=%{y}<extra></extra>\", \"legendgroup\": \"Company #3\", \"marker\": {\"color\": \"#00cc96\"}, \"name\": \"Company #3\", \"offsetgroup\": \"Company #3\", \"orientation\": \"v\", \"showlegend\": true, \"textposition\": \"auto\", \"x\": [\"Company #3\"], \"xaxis\": \"x\", \"y\": [1063], \"yaxis\": \"y\", \"type\": \"bar\"}, {\"alignmentgroup\": \"True\", \"hovertemplate\": \"entity=%{x}<br>version=3<br>links=%{y}<extra></extra>\", \"legendgroup\": \"Company #4\", \"marker\": {\"color\": \"#ab63fa\"}, \"name\": \"Company #4\", \"offsetgroup\": \"Company #4\", \"orientation\": \"v\", \"showlegend\": true, \"textposition\": \"auto\", \"x\": [\"Company #4\"], \"xaxis\": \"x\", \"y\": [2380], \"yaxis\": \"y\", \"type\": \"bar\"}], \"name\": \"3\"}, {\"data\": [{\"alignmentgroup\": \"True\", \"hovertemplate\": \"entity=%{x}<br>version=4<br>links=%{y}<extra></extra>\", \"legendgroup\": \"Company #1\", \"marker\": {\"color\": \"#636efa\"}, \"name\": \"Company #1\", \"offsetgroup\": \"Company #1\", \"orientation\": \"v\", \"showlegend\": true, \"textposition\": \"auto\", \"x\": [\"Company #1\"], \"xaxis\": \"x\", \"y\": [477], \"yaxis\": \"y\", \"type\": \"bar\"}, {\"alignmentgroup\": \"True\", \"hovertemplate\": \"entity=%{x}<br>version=4<br>links=%{y}<extra></extra>\", \"legendgroup\": \"Company #2\", \"marker\": {\"color\": \"#EF553B\"}, \"name\": \"Company #2\", \"offsetgroup\": \"Company #2\", \"orientation\": \"v\", \"showlegend\": true, \"textposition\": \"auto\", \"x\": [\"Company #2\"], \"xaxis\": \"x\", \"y\": [636], \"yaxis\": \"y\", \"type\": \"bar\"}, {\"alignmentgroup\": \"True\", \"hovertemplate\": \"entity=%{x}<br>version=4<br>links=%{y}<extra></extra>\", \"legendgroup\": \"Company #3\", \"marker\": {\"color\": \"#00cc96\"}, \"name\": \"Company #3\", \"offsetgroup\": \"Company #3\", \"orientation\": \"v\", \"showlegend\": true, \"textposition\": \"auto\", \"x\": [\"Company #3\"], \"xaxis\": \"x\", \"y\": [1255], \"yaxis\": \"y\", \"type\": \"bar\"}, {\"alignmentgroup\": \"True\", \"hovertemplate\": \"entity=%{x}<br>version=4<br>links=%{y}<extra></extra>\", \"legendgroup\": \"Company #4\", \"marker\": {\"color\": \"#ab63fa\"}, \"name\": \"Company #4\", \"offsetgroup\": \"Company #4\", \"orientation\": \"v\", \"showlegend\": true, \"textposition\": \"auto\", \"x\": [\"Company #4\"], \"xaxis\": \"x\", \"y\": [2442], \"yaxis\": \"y\", \"type\": \"bar\"}], \"name\": \"4\"}, {\"data\": [{\"alignmentgroup\": \"True\", \"hovertemplate\": \"entity=%{x}<br>version=5<br>links=%{y}<extra></extra>\", \"legendgroup\": \"Company #1\", \"marker\": {\"color\": \"#636efa\"}, \"name\": \"Company #1\", \"offsetgroup\": \"Company #1\", \"orientation\": \"v\", \"showlegend\": true, \"textposition\": \"auto\", \"x\": [\"Company #1\"], \"xaxis\": \"x\", \"y\": [501], \"yaxis\": \"y\", \"type\": \"bar\"}, {\"alignmentgroup\": \"True\", \"hovertemplate\": \"entity=%{x}<br>version=5<br>links=%{y}<extra></extra>\", \"legendgroup\": \"Company #2\", \"marker\": {\"color\": \"#EF553B\"}, \"name\": \"Company #2\", \"offsetgroup\": \"Company #2\", \"orientation\": \"v\", \"showlegend\": true, \"textposition\": \"auto\", \"x\": [\"Company #2\"], \"xaxis\": \"x\", \"y\": [661], \"yaxis\": \"y\", \"type\": \"bar\"}, {\"alignmentgroup\": \"True\", \"hovertemplate\": \"entity=%{x}<br>version=5<br>links=%{y}<extra></extra>\", \"legendgroup\": \"Company #3\", \"marker\": {\"color\": \"#00cc96\"}, \"name\": \"Company #3\", \"offsetgroup\": \"Company #3\", \"orientation\": \"v\", \"showlegend\": true, \"textposition\": \"auto\", \"x\": [\"Company #3\"], \"xaxis\": \"x\", \"y\": [1447], \"yaxis\": \"y\", \"type\": \"bar\"}, {\"alignmentgroup\": \"True\", \"hovertemplate\": \"entity=%{x}<br>version=5<br>links=%{y}<extra></extra>\", \"legendgroup\": \"Company #4\", \"marker\": {\"color\": \"#ab63fa\"}, \"name\": \"Company #4\", \"offsetgroup\": \"Company #4\", \"orientation\": \"v\", \"showlegend\": true, \"textposition\": \"auto\", \"x\": [\"Company #4\"], \"xaxis\": \"x\", \"y\": [2504], \"yaxis\": \"y\", \"type\": \"bar\"}], \"name\": \"5\"}, {\"data\": [{\"alignmentgroup\": \"True\", \"hovertemplate\": \"entity=%{x}<br>version=6<br>links=%{y}<extra></extra>\", \"legendgroup\": \"Company #1\", \"marker\": {\"color\": \"#636efa\"}, \"name\": \"Company #1\", \"offsetgroup\": \"Company #1\", \"orientation\": \"v\", \"showlegend\": true, \"textposition\": \"auto\", \"x\": [\"Company #1\"], \"xaxis\": \"x\", \"y\": [525], \"yaxis\": \"y\", \"type\": \"bar\"}, {\"alignmentgroup\": \"True\", \"hovertemplate\": \"entity=%{x}<br>version=6<br>links=%{y}<extra></extra>\", \"legendgroup\": \"Company #2\", \"marker\": {\"color\": \"#EF553B\"}, \"name\": \"Company #2\", \"offsetgroup\": \"Company #2\", \"orientation\": \"v\", \"showlegend\": true, \"textposition\": \"auto\", \"x\": [\"Company #2\"], \"xaxis\": \"x\", \"y\": [686], \"yaxis\": \"y\", \"type\": \"bar\"}, {\"alignmentgroup\": \"True\", \"hovertemplate\": \"entity=%{x}<br>version=6<br>links=%{y}<extra></extra>\", \"legendgroup\": \"Company #3\", \"marker\": {\"color\": \"#00cc96\"}, \"name\": \"Company #3\", \"offsetgroup\": \"Company #3\", \"orientation\": \"v\", \"showlegend\": true, \"textposition\": \"auto\", \"x\": [\"Company #3\"], \"xaxis\": \"x\", \"y\": [1639], \"yaxis\": \"y\", \"type\": \"bar\"}, {\"alignmentgroup\": \"True\", \"hovertemplate\": \"entity=%{x}<br>version=6<br>links=%{y}<extra></extra>\", \"legendgroup\": \"Company #4\", \"marker\": {\"color\": \"#ab63fa\"}, \"name\": \"Company #4\", \"offsetgroup\": \"Company #4\", \"orientation\": \"v\", \"showlegend\": true, \"textposition\": \"auto\", \"x\": [\"Company #4\"], \"xaxis\": \"x\", \"y\": [2566], \"yaxis\": \"y\", \"type\": \"bar\"}], \"name\": \"6\"}, {\"data\": [{\"alignmentgroup\": \"True\", \"hovertemplate\": \"entity=%{x}<br>version=7<br>links=%{y}<extra></extra>\", \"legendgroup\": \"Company #1\", \"marker\": {\"color\": \"#636efa\"}, \"name\": \"Company #1\", \"offsetgroup\": \"Company #1\", \"orientation\": \"v\", \"showlegend\": true, \"textposition\": \"auto\", \"x\": [\"Company #1\"], \"xaxis\": \"x\", \"y\": [549], \"yaxis\": \"y\", \"type\": \"bar\"}, {\"alignmentgroup\": \"True\", \"hovertemplate\": \"entity=%{x}<br>version=7<br>links=%{y}<extra></extra>\", \"legendgroup\": \"Company #2\", \"marker\": {\"color\": \"#EF553B\"}, \"name\": \"Company #2\", \"offsetgroup\": \"Company #2\", \"orientation\": \"v\", \"showlegend\": true, \"textposition\": \"auto\", \"x\": [\"Company #2\"], \"xaxis\": \"x\", \"y\": [711], \"yaxis\": \"y\", \"type\": \"bar\"}, {\"alignmentgroup\": \"True\", \"hovertemplate\": \"entity=%{x}<br>version=7<br>links=%{y}<extra></extra>\", \"legendgroup\": \"Company #3\", \"marker\": {\"color\": \"#00cc96\"}, \"name\": \"Company #3\", \"offsetgroup\": \"Company #3\", \"orientation\": \"v\", \"showlegend\": true, \"textposition\": \"auto\", \"x\": [\"Company #3\"], \"xaxis\": \"x\", \"y\": [1831], \"yaxis\": \"y\", \"type\": \"bar\"}, {\"alignmentgroup\": \"True\", \"hovertemplate\": \"entity=%{x}<br>version=7<br>links=%{y}<extra></extra>\", \"legendgroup\": \"Company #4\", \"marker\": {\"color\": \"#ab63fa\"}, \"name\": \"Company #4\", \"offsetgroup\": \"Company #4\", \"orientation\": \"v\", \"showlegend\": true, \"textposition\": \"auto\", \"x\": [\"Company #4\"], \"xaxis\": \"x\", \"y\": [2628], \"yaxis\": \"y\", \"type\": \"bar\"}], \"name\": \"7\"}, {\"data\": [{\"alignmentgroup\": \"True\", \"hovertemplate\": \"entity=%{x}<br>version=8<br>links=%{y}<extra></extra>\", \"legendgroup\": \"Company #1\", \"marker\": {\"color\": \"#636efa\"}, \"name\": \"Company #1\", \"offsetgroup\": \"Company #1\", \"orientation\": \"v\", \"showlegend\": true, \"textposition\": \"auto\", \"x\": [\"Company #1\"], \"xaxis\": \"x\", \"y\": [573], \"yaxis\": \"y\", \"type\": \"bar\"}, {\"alignmentgroup\": \"True\", \"hovertemplate\": \"entity=%{x}<br>version=8<br>links=%{y}<extra></extra>\", \"legendgroup\": \"Company #2\", \"marker\": {\"color\": \"#EF553B\"}, \"name\": \"Company #2\", \"offsetgroup\": \"Company #2\", \"orientation\": \"v\", \"showlegend\": true, \"textposition\": \"auto\", \"x\": [\"Company #2\"], \"xaxis\": \"x\", \"y\": [736], \"yaxis\": \"y\", \"type\": \"bar\"}, {\"alignmentgroup\": \"True\", \"hovertemplate\": \"entity=%{x}<br>version=8<br>links=%{y}<extra></extra>\", \"legendgroup\": \"Company #3\", \"marker\": {\"color\": \"#00cc96\"}, \"name\": \"Company #3\", \"offsetgroup\": \"Company #3\", \"orientation\": \"v\", \"showlegend\": true, \"textposition\": \"auto\", \"x\": [\"Company #3\"], \"xaxis\": \"x\", \"y\": [2023], \"yaxis\": \"y\", \"type\": \"bar\"}, {\"alignmentgroup\": \"True\", \"hovertemplate\": \"entity=%{x}<br>version=8<br>links=%{y}<extra></extra>\", \"legendgroup\": \"Company #4\", \"marker\": {\"color\": \"#ab63fa\"}, \"name\": \"Company #4\", \"offsetgroup\": \"Company #4\", \"orientation\": \"v\", \"showlegend\": true, \"textposition\": \"auto\", \"x\": [\"Company #4\"], \"xaxis\": \"x\", \"y\": [2690], \"yaxis\": \"y\", \"type\": \"bar\"}], \"name\": \"8\"}]);\n",
       "                        }).then(function(){\n",
       "                            Plotly.animate('29328dc0-8d39-43df-bda3-ddc588c29d5a', null);\n",
       "                        }).then(function(){\n",
       "                            \n",
       "var gd = document.getElementById('29328dc0-8d39-43df-bda3-ddc588c29d5a');\n",
       "var x = new MutationObserver(function (mutations, observer) {{\n",
       "        var display = window.getComputedStyle(gd).display;\n",
       "        if (!display || display === 'none') {{\n",
       "            console.log([gd, 'removed!']);\n",
       "            Plotly.purge(gd);\n",
       "            observer.disconnect();\n",
       "        }}\n",
       "}});\n",
       "\n",
       "// Listen for the removal of the full notebook cells\n",
       "var notebookContainer = gd.closest('#notebook-container');\n",
       "if (notebookContainer) {{\n",
       "    x.observe(notebookContainer, {childList: true});\n",
       "}}\n",
       "\n",
       "// Listen for the clearing of the current output cell\n",
       "var outputEl = gd.closest('.output');\n",
       "if (outputEl) {{\n",
       "    x.observe(outputEl, {childList: true});\n",
       "}}\n",
       "\n",
       "                        })\n",
       "                };\n",
       "                });\n",
       "            </script>\n",
       "        </div>"
      ]
     },
     "metadata": {},
     "output_type": "display_data"
    }
   ],
   "source": [
    "fig = px.bar(df, x=\"entity\", y=\"links\", color=\"entity\", \n",
    "             animation_frame=\"version\",\n",
    "             range_y=[0, max(df[\"links\"])+100])\n",
    "\n",
    "\n",
    "fig.update_layout(title=\"\"\"Increasing Potential COIs Identified: # Contracts Linked to Companies (167% Increase)\n",
    "                           <br><i style='font-size:12;'>         *companies have been anonymized</i>\"\"\", showlegend=False)\n",
    "fig[\"layout\"].pop(\"updatemenus\") \n",
    "fig[\"layout\"].pop(\"sliders\") \n",
    "fig[\"layout\"][\"xaxis\"]['title'] = \"Company Name\"\n",
    "fig[\"layout\"][\"yaxis\"]['title'] = \"Identified Links\"\n",
    "\n",
    "fig.update_layout(transition = {'duration':1}, xaxis={'categoryorder':'total descending'})\n",
    "fig.update_layout({\n",
    "'plot_bgcolor': 'rgba(0, 0, 0, 0)',\n",
    "'paper_bgcolor': 'rgba(0, 0, 0, 0)',\n",
    "})\n",
    "\n",
    "py.iplot(fig)"
   ]
  },
  {
   "cell_type": "code",
   "execution_count": 15,
   "id": "7beaa9b2",
   "metadata": {
    "ExecuteTime": {
     "end_time": "2021-09-01T20:31:48.203211Z",
     "start_time": "2021-09-01T20:31:48.185764Z"
    }
   },
   "outputs": [],
   "source": [
    "fig.write_html(\"../old_vs_new_process.html\")"
   ]
  },
  {
   "cell_type": "code",
   "execution_count": 6,
   "id": "471e755e",
   "metadata": {
    "ExecuteTime": {
     "end_time": "2021-09-01T20:34:14.845869Z",
     "start_time": "2021-09-01T20:34:14.839041Z"
    }
   },
   "outputs": [],
   "source": [
    "import pandas as pd\n",
    "df = pd.read_csv(\"./data/coi_network.csv\", index_col=False)"
   ]
  },
  {
   "cell_type": "code",
   "execution_count": 11,
   "id": "0ebb3049",
   "metadata": {
    "ExecuteTime": {
     "end_time": "2021-09-01T20:35:39.476789Z",
     "start_time": "2021-09-01T20:35:39.466467Z"
    }
   },
   "outputs": [],
   "source": [
    "for c in list(df):\n",
    "    df[c] = df[c].replace(\"hp\", \"company\", regex=True)"
   ]
  },
  {
   "cell_type": "code",
   "execution_count": 13,
   "id": "d6306fa1",
   "metadata": {
    "ExecuteTime": {
     "end_time": "2021-09-01T20:35:49.578889Z",
     "start_time": "2021-09-01T20:35:49.569483Z"
    }
   },
   "outputs": [],
   "source": [
    "df.to_csv(\"coi_network.csv\")"
   ]
  }
 ],
 "metadata": {
  "kernelspec": {
   "display_name": "GIS",
   "language": "python",
   "name": "gis"
  },
  "language_info": {
   "codemirror_mode": {
    "name": "ipython",
    "version": 3
   },
   "file_extension": ".py",
   "mimetype": "text/x-python",
   "name": "python",
   "nbconvert_exporter": "python",
   "pygments_lexer": "ipython3",
   "version": "3.7.6"
  },
  "latex_envs": {
   "LaTeX_envs_menu_present": true,
   "autoclose": false,
   "autocomplete": true,
   "bibliofile": "biblio.bib",
   "cite_by": "apalike",
   "current_citInitial": 1,
   "eqLabelWithNumbers": true,
   "eqNumInitial": 1,
   "hotkeys": {
    "equation": "Ctrl-E",
    "itemize": "Ctrl-I"
   },
   "labels_anchors": false,
   "latex_user_defs": false,
   "report_style_numbering": false,
   "user_envs_cfg": false
  },
  "toc": {
   "base_numbering": 1,
   "nav_menu": {},
   "number_sections": true,
   "sideBar": true,
   "skip_h1_title": false,
   "title_cell": "Table of Contents",
   "title_sidebar": "Contents",
   "toc_cell": false,
   "toc_position": {},
   "toc_section_display": true,
   "toc_window_display": false
  }
 },
 "nbformat": 4,
 "nbformat_minor": 5
}
